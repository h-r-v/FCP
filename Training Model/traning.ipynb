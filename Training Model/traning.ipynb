{
 "metadata": {
  "language_info": {
   "codemirror_mode": {
    "name": "ipython",
    "version": 3
   },
   "file_extension": ".py",
   "mimetype": "text/x-python",
   "name": "python",
   "nbconvert_exporter": "python",
   "pygments_lexer": "ipython3",
   "version": "3.8.5-final"
  },
  "orig_nbformat": 2,
  "kernelspec": {
   "name": "python3",
   "display_name": "Python 3",
   "language": "python"
  }
 },
 "nbformat": 4,
 "nbformat_minor": 2,
 "cells": [
  {
   "cell_type": "code",
   "execution_count": 1,
   "metadata": {},
   "outputs": [],
   "source": [
    "from util import vec\n",
    "import pandas as pd\n",
    "from nltk.corpus import stopwords\n",
    "import numpy as np"
   ]
  },
  {
   "cell_type": "code",
   "execution_count": 2,
   "metadata": {},
   "outputs": [],
   "source": [
    "#stop words are words that occur very frequently in the english language. Ex: of, the, a, an, etc\n",
    "stop_words = set(stopwords.words('english'))"
   ]
  },
  {
   "cell_type": "code",
   "execution_count": 8,
   "metadata": {
    "tags": []
   },
   "outputs": [
    {
     "output_type": "stream",
     "name": "stdout",
     "text": [
      "data['average'] = ['give me average of prize column\\n', 'what is the average of prize\\n', 'display the average of prize column\\n']...\ndata['sum'] = ['give me sum of prize column\\n', 'what is the sum of prize\\n', 'display the sum of prize column\\n']...\ndata['sort'] = ['sort prize column in ascending order\\n', 'sort prize column in descending order\\n', 'sort cost column in ascending order\\n']...\n"
     ]
    }
   ],
   "source": [
    "#data: is a dictionary that contains the label of the data as it's key and all data points under that label as elements of a list\n",
    "#Ex: data['sum'] = ['print sum of points', 'show the addition of the points column', 'add points']\n",
    "data = {}\n",
    "\n",
    "for fn in os.listdir(os.path.join(os.getcwd(),'classes')):\n",
    "    \n",
    "    data[fn] = []\n",
    "    _path = os.path.join('classes',fn)\n",
    "    with open(_path) as f:\n",
    "       data[fn] += f.readlines()\n",
    "\n",
    "for key in data.keys():\n",
    "    print(f'data[\\'{key}\\'] = {data[key][0:3]}...')"
   ]
  },
  {
   "cell_type": "code",
   "execution_count": 15,
   "metadata": {},
   "outputs": [
    {
     "output_type": "execute_result",
     "data": {
      "text/plain": [
       "average    220\n",
       "sum        220\n",
       "sort        88\n",
       "Name: variable, dtype: int64"
      ]
     },
     "metadata": {},
     "execution_count": 15
    }
   ],
   "source": [
    "#converts data to a df with one cloumn as the labels and the other column as data points\n",
    "df = pd.DataFrame.from_dict(data, orient='index')\n",
    "df = df.transpose().melt()\n",
    "\n",
    "df = df.dropna()\n",
    "\n",
    "df.variable.value_counts()"
   ]
  },
  {
   "cell_type": "code",
   "execution_count": 16,
   "metadata": {},
   "outputs": [
    {
     "output_type": "execute_result",
     "data": {
      "text/plain": [
       "  variable                                value\n",
       "0  average      give me average of prize column\n",
       "1  average         what is the average of prize\n",
       "2  average  display the average of prize column\n",
       "3  average              average of prize column\n",
       "4  average     show the average of prize column"
      ],
      "text/html": "<div>\n<style scoped>\n    .dataframe tbody tr th:only-of-type {\n        vertical-align: middle;\n    }\n\n    .dataframe tbody tr th {\n        vertical-align: top;\n    }\n\n    .dataframe thead th {\n        text-align: right;\n    }\n</style>\n<table border=\"1\" class=\"dataframe\">\n  <thead>\n    <tr style=\"text-align: right;\">\n      <th></th>\n      <th>variable</th>\n      <th>value</th>\n    </tr>\n  </thead>\n  <tbody>\n    <tr>\n      <th>0</th>\n      <td>average</td>\n      <td>give me average of prize column</td>\n    </tr>\n    <tr>\n      <th>1</th>\n      <td>average</td>\n      <td>what is the average of prize</td>\n    </tr>\n    <tr>\n      <th>2</th>\n      <td>average</td>\n      <td>display the average of prize column</td>\n    </tr>\n    <tr>\n      <th>3</th>\n      <td>average</td>\n      <td>average of prize column</td>\n    </tr>\n    <tr>\n      <th>4</th>\n      <td>average</td>\n      <td>show the average of prize column</td>\n    </tr>\n  </tbody>\n</table>\n</div>"
     },
     "metadata": {},
     "execution_count": 16
    }
   ],
   "source": [
    "#removing extra spaces (just an extra precaution)\n",
    "df.value = df.value.str.strip()\n",
    "df.head()"
   ]
  },
  {
   "cell_type": "code",
   "execution_count": 17,
   "metadata": {},
   "outputs": [
    {
     "output_type": "execute_result",
     "data": {
      "text/plain": [
       "  variable                          value\n",
       "0  average     give average prize column \n",
       "1  average                 average prize \n",
       "2  average  display average prize column \n",
       "3  average          average prize column \n",
       "4  average     show average prize column "
      ],
      "text/html": "<div>\n<style scoped>\n    .dataframe tbody tr th:only-of-type {\n        vertical-align: middle;\n    }\n\n    .dataframe tbody tr th {\n        vertical-align: top;\n    }\n\n    .dataframe thead th {\n        text-align: right;\n    }\n</style>\n<table border=\"1\" class=\"dataframe\">\n  <thead>\n    <tr style=\"text-align: right;\">\n      <th></th>\n      <th>variable</th>\n      <th>value</th>\n    </tr>\n  </thead>\n  <tbody>\n    <tr>\n      <th>0</th>\n      <td>average</td>\n      <td>give average prize column</td>\n    </tr>\n    <tr>\n      <th>1</th>\n      <td>average</td>\n      <td>average prize</td>\n    </tr>\n    <tr>\n      <th>2</th>\n      <td>average</td>\n      <td>display average prize column</td>\n    </tr>\n    <tr>\n      <th>3</th>\n      <td>average</td>\n      <td>average prize column</td>\n    </tr>\n    <tr>\n      <th>4</th>\n      <td>average</td>\n      <td>show average prize column</td>\n    </tr>\n  </tbody>\n</table>\n</div>"
     },
     "metadata": {},
     "execution_count": 17
    }
   ],
   "source": [
    "#A function that removes all stop words from a sentence.\n",
    "#Input: \"sum of points\" Output: \"sum points\" \n",
    "def rm_stopwords(x):\n",
    "    ans = ''\n",
    "    for i in x.lower().split():\n",
    "        if i not in stop_words:\n",
    "            ans+=i+' '\n",
    "\n",
    "    return ans\n",
    "\n",
    "df.value = df.value.apply(rm_stopwords)\n",
    "df.head()"
   ]
  },
  {
   "cell_type": "code",
   "execution_count": 18,
   "metadata": {},
   "outputs": [
    {
     "output_type": "stream",
     "name": "stdout",
     "text": [
      "(475,) (53,) (475,) (53,)\n"
     ]
    }
   ],
   "source": [
    "from sklearn.model_selection import train_test_split\n",
    "\n",
    "#slitting the dataset into testing and training data\n",
    "X_train, X_test, y_train, y_test = train_test_split( df.value, df.variable, test_size=0.1, random_state=3, stratify=df.variable)\n",
    "\n",
    "print(X_train.shape, X_test.shape, y_train.shape, y_test.shape)"
   ]
  },
  {
   "cell_type": "code",
   "execution_count": 9,
   "metadata": {},
   "outputs": [],
   "source": [
    "#taking the average of all word vectors present in a sentence\n",
    "#Input: 5 50-dimension word embbeding Output: 1 50 dimension word embbeding\n",
    "def sentenceVecAvg(x):\n",
    "    a = vec(x)\n",
    "    return sum(a)/len(a)\n",
    "\n",
    "X_train = X_train.apply(sentenceVecAvg)\n",
    "X_test = X_test.apply(sentenceVecAvg)"
   ]
  },
  {
   "cell_type": "code",
   "execution_count": 10,
   "metadata": {},
   "outputs": [],
   "source": [
    "X_train = np.matrix(X_train.to_list())\n",
    "X_test = np.matrix(X_test.to_list())"
   ]
  },
  {
   "cell_type": "code",
   "execution_count": 12,
   "metadata": {},
   "outputs": [
    {
     "output_type": "execute_result",
     "data": {
      "text/plain": [
       "{'average': 0, 'sum': 1, 'sort': 2}"
      ]
     },
     "metadata": {},
     "execution_count": 12
    }
   ],
   "source": [
    "#indexing all labels\n",
    "\n",
    "d={}\n",
    "for index, function_name in enumerate(data.keys()):\n",
    "    d[function_name] = index"
   ]
  },
  {
   "cell_type": "code",
   "execution_count": 13,
   "metadata": {},
   "outputs": [],
   "source": [
    "#changing labels to index\n",
    "y_train = y_train.apply(lambda x: d[x])\n",
    "y_test = y_test.apply(lambda x: d[x])"
   ]
  },
  {
   "cell_type": "code",
   "execution_count": 14,
   "metadata": {},
   "outputs": [],
   "source": [
    "y_train = np.array(y_train).reshape((-1,1))\n",
    "y_test = np.array(y_test).reshape((-1,1))"
   ]
  },
  {
   "cell_type": "code",
   "execution_count": 15,
   "metadata": {},
   "outputs": [
    {
     "output_type": "execute_result",
     "data": {
      "text/plain": [
       "SVC()"
      ]
     },
     "metadata": {},
     "execution_count": 15
    }
   ],
   "source": [
    "from sklearn import svm\n",
    "\n",
    "#training classifier\n",
    "clf = svm.SVC()\n",
    "clf.fit(X_train, y_train)"
   ]
  },
  {
   "cell_type": "code",
   "execution_count": 16,
   "metadata": {
    "tags": []
   },
   "outputs": [
    {
     "output_type": "execute_result",
     "data": {
      "text/plain": [
       "array([100.])"
      ]
     },
     "metadata": {},
     "execution_count": 16
    }
   ],
   "source": [
    "#seeing accuracy\n",
    "sum(clf.predict(X_test).reshape(y_test.shape)-y_test==0)/len(y_test)*100"
   ]
  },
  {
   "cell_type": "code",
   "execution_count": 18,
   "metadata": {},
   "outputs": [
    {
     "output_type": "stream",
     "name": "stdout",
     "text": [
      "[1]\n"
     ]
    }
   ],
   "source": [
    "#function that takes a sentence as input and gives the label as output.\n",
    "def find_fn(ip):\n",
    "    a = sentenceVecAvg(ip)\n",
    "    ans = clf.predict(np.array(a).reshape((1,-1)))\n",
    "    return ans\n",
    "print(find_fn('sum age in data'))"
   ]
  },
  {
   "cell_type": "code",
   "execution_count": 19,
   "metadata": {},
   "outputs": [
    {
     "output_type": "execute_result",
     "data": {
      "text/plain": [
       "array([1])"
      ]
     },
     "metadata": {},
     "execution_count": 19
    }
   ],
   "source": [
    "clf.predict(sentenceVecAvg('sum data').reshape((1,50)))"
   ]
  },
  {
   "cell_type": "code",
   "execution_count": 20,
   "metadata": {
    "tags": []
   },
   "outputs": [],
   "source": [
    "#saving the model\n",
    "import pickle\n",
    "\n",
    "#model name\n",
    "filename = 'finalized_model.sav'\n",
    "\n",
    "#model is saved under the models dir\n",
    "_path = os.path.join('models',filename)\n",
    "pickle.dump(clf, open(_path, 'wb'))"
   ]
  },
  {
   "cell_type": "code",
   "execution_count": 22,
   "metadata": {},
   "outputs": [],
   "source": [
    "loaded_model = pickle.load(open(_path, 'rb'))\n",
    "result = loaded_model.score(X_test, y_test)"
   ]
  },
  {
   "cell_type": "code",
   "execution_count": 29,
   "metadata": {},
   "outputs": [
    {
     "output_type": "execute_result",
     "data": {
      "text/plain": [
       "array([2])"
      ]
     },
     "metadata": {},
     "execution_count": 29
    }
   ],
   "source": [
    "loaded_model.predict(sentenceVecAvg('sort prize in order').reshape((1,50)))"
   ]
  }
 ]
}